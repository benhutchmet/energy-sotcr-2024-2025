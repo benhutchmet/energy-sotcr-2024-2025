{
 "cells": [
  {
   "attachments": {},
   "cell_type": "markdown",
   "metadata": {},
   "source": [
    "Previewing fault data from all DNOs, after sorting by wind and precip related faults\n",
    "\n",
    "Precip faults: 02 (rain); 03 (snow, sleet, ice); 18 (flooding)\n",
    "Wind faults: 06 (wind and gale); 21 (windborne material)\n",
    "\n",
    "[Edited by MW: 25/6/25]"
   ]
  },
  {
   "cell_type": "code",
   "execution_count": 1,
   "metadata": {},
   "outputs": [],
   "source": [
    "import pandas as pd"
   ]
  },
  {
   "attachments": {},
   "cell_type": "markdown",
   "metadata": {},
   "source": [
    "## ENWL"
   ]
  },
  {
   "cell_type": "code",
   "execution_count": 5,
   "metadata": {},
   "outputs": [
    {
     "name": "stdout",
     "output_type": "stream",
     "text": [
      "                   Date-time         Restored date-time  ﻿Incident Duration  \\\n",
      "0  2025-01-16T05:39:00+00:00  2025-01-16T07:58:00+00:00                 136   \n",
      "1  2025-01-07T13:35:00+00:00  2025-01-07T16:56:00+00:00                 201   \n",
      "2  2025-01-05T07:05:00+00:00  2025-01-05T14:49:00+00:00                 464   \n",
      "3  2025-01-05T06:14:00+00:00  2025-01-05T12:47:00+00:00                 393   \n",
      "4  2025-01-03T18:56:00+00:00  2025-01-03T23:56:00+00:00                 300   \n",
      "\n",
      "   Customer Affected  Direct Cause Voltage  Total Customer Minutes Lost  \\\n",
      "0                 80             6      LV                         6976   \n",
      "1                899             6      11                       101445   \n",
      "2                449             6     6.6                        65981   \n",
      "3                102             6      11                        40705   \n",
      "4                 44             6      11                         7714   \n",
      "\n",
      "    Latitude  Longitude  \n",
      "0  54.640564  -3.399004  \n",
      "1  54.703601  -3.495479  \n",
      "2  53.791166  -2.714542  \n",
      "3  53.911226  -2.961411  \n",
      "4  54.629298  -2.975794  \n",
      "                   Date-time         Restored date-time  ﻿Incident Duration  \\\n",
      "0  2025-01-10T11:15:00+00:00  2025-01-10T16:50:00+00:00                 158   \n",
      "1  2025-01-07T18:34:00+00:00  2025-01-07T23:36:00+00:00                 302   \n",
      "2  2025-01-06T23:15:00+00:00  2025-01-06T23:40:00+00:00                  25   \n",
      "3  2025-01-05T09:44:00+00:00  2025-01-05T14:27:00+00:00                 283   \n",
      "4  2025-01-05T07:34:00+00:00  2025-01-05T12:16:00+00:00                 282   \n",
      "\n",
      "   Customer Affected  Direct Cause Voltage  Total Customer Minutes Lost  \\\n",
      "0                 10            18     6.6                         1580   \n",
      "1                 63             3      11                         8070   \n",
      "2                104            18      LV                         2372   \n",
      "3                360             3      11                        56466   \n",
      "4                433             3     6.6                        12600   \n",
      "\n",
      "    Latitude  Longitude  \n",
      "0  53.452051  -2.301385  \n",
      "1  55.036832  -2.890123  \n",
      "2  53.750920  -2.497885  \n",
      "3  54.203782  -2.617130  \n",
      "4  53.768480  -2.755625  \n"
     ]
    }
   ],
   "source": [
    "#Wind data\n",
    "wind_faults_enwl = pd.read_csv(\"fault_data/ENWL/enwl-wind.csv\")\n",
    "print(wind_faults_enwl.head())\n",
    "#Precip data\n",
    "precip_faults_enwl = pd.read_csv(\"fault_data/ENWL/enwl-precip.csv\")\n",
    "print(precip_faults_enwl.head())"
   ]
  },
  {
   "cell_type": "code",
   "execution_count": null,
   "metadata": {},
   "outputs": [],
   "source": []
  }
 ],
 "metadata": {
  "kernelspec": {
   "display_name": "Python 3",
   "language": "python",
   "name": "python3"
  },
  "language_info": {
   "codemirror_mode": {
    "name": "ipython",
    "version": 3
   },
   "file_extension": ".py",
   "mimetype": "text/x-python",
   "name": "python",
   "nbconvert_exporter": "python",
   "pygments_lexer": "ipython3",
   "version": "3.9.6"
  },
  "orig_nbformat": 4
 },
 "nbformat": 4,
 "nbformat_minor": 2
}
